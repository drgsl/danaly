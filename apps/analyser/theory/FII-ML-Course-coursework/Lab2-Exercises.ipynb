{
 "cells": [
  {
   "cell_type": "markdown",
   "metadata": {},
   "source": [
    "# Elementary Notions in Statistics"
   ]
  },
  {
   "cell_type": "markdown",
   "metadata": {},
   "source": [
    "## Exercise 1\n",
    "(Random variables, implementation)\n",
    "\n",
    "Give an example of a a real phenomenon modelled by the following discrete distributions and plot an illustrative pmf for that phenomenon using `matplotlib` and `scipy.stats` functions:\n",
    "\n",
    "1. binomial;\n",
    "2. geometric."
   ]
  },
  {
   "cell_type": "markdown",
   "metadata": {},
   "source": [
    "## Exercise 2\n",
    "(Random variables, implementation)\n",
    "\n",
    "Give an example of a real phenomenon modelled by the following continuous distributions and plot an illustrative pdf for that phenomenon using `matplotlib` and `scipy.stats` functions:\n",
    "\n",
    "1. gamma;\n",
    "2. Pareto."
   ]
  },
  {
   "cell_type": "markdown",
   "metadata": {},
   "source": [
    "## Exercise 3\n",
    "\n",
    "(Random variables, implementation)\n",
    "\n",
    "Suppose you measure the temperature 10 consecutive days with a thermometer that has a small random error. \n",
    "\n",
    "1. What is the mean temperature, knowing that the mean error is +1°C and the measurements are those in the variable $Y$ below.\n",
    "2. A second thermometer with a Fahrenheit scale ($T_{(°F)} = T_{(°C)} × 1.8 + 32$) measures the temperature in a different region. The variance measured by this thermometer (in Fahrenheit) is 8. Where is the temperature more stable: in your region, or in the region measured by the second thermometer?"
   ]
  },
  {
   "cell_type": "code",
   "execution_count": 1,
   "metadata": {},
   "outputs": [
    {
     "name": "stdout",
     "output_type": "stream",
     "text": [
      "Celsius mean is:  20.1\n",
      "Celsius variance is:  2.3222222222222224\n",
      "Celsius variance is:  2.3222222222222224\n"
     ]
    }
   ],
   "source": [
    "Y = [21, 20, 22, 23, 20, 19, 19, 18, 19, 20]\n",
    "\n",
    "# Your code here\n",
    "import statistics\n",
    "\n",
    "mean = sum(Y)/len(Y)\n",
    "\n",
    "print(\"Celsius mean is: \", mean)\n",
    "print(\"Celsius variance is: \", sum([(y - mean)**2 for y in Y])/(len(Y)-1))\n",
    "print(\"Celsius variance is: \", statistics.variance(Y))\n",
    "\n"
   ]
  },
  {
   "cell_type": "markdown",
   "metadata": {},
   "source": [
    "## Exercise 4\n",
    "(Random variable, implementation)\n",
    "\n",
    "Let $S$ be the outcome of a random variable describing the sum of two dice thrown independently.\n",
    "\n",
    "1. Print the probability distribution of $S$ graphically.\n",
    "1. Determine $E[S]$ and $Var(S)$."
   ]
  },
  {
   "cell_type": "code",
   "execution_count": 4,
   "metadata": {},
   "outputs": [
    {
     "data": {
      "image/png": "[encoded data removed]",
      "text/plain": [
       "<Figure size 640x480 with 1 Axes>"
      ]
     },
     "metadata": {},
     "output_type": "display_data"
    },
    {
     "name": "stdout",
     "output_type": "stream",
     "text": [
      "Mean is:  7.0\n",
      "Variance is:  6.0\n"
     ]
    }
   ],
   "source": [
    "\"\"\"\n",
    "\n",
    "Let $S$ be the outcome of a random variable describing the sum of two dice thrown independently.\n",
    "\n",
    "1. Print the probability distribution of $S$ graphically.\n",
    "1. Determine $E[S]$ and $Var(S)$.\n",
    "\"\"\"\n",
    "\n",
    "import matplotlib.pyplot as plt\n",
    "\n",
    "# 1. Print the probability distribution of  𝑆  graphically.\n",
    "\n",
    "S = [i+j for i in range(1,7) for j in range(1,7)]\n",
    "plt.hist(S, bins=11, density=True, rwidth=0.9)\n",
    "plt.xlabel(\"Sum of two dice\")\n",
    "plt.ylabel(\"Probability\")\n",
    "plt.show()\n",
    "\n",
    "# 2. Determine  𝐸[𝑆]  and  𝑉𝑎𝑟(𝑆) .\n",
    "\n",
    "mean = sum(S)/len(S)\n",
    "print(\"Mean is: \", mean)\n",
    "print(\"Variance is: \", sum([(s - mean)**2 for s in S])/(len(S)-1))\n",
    "\n"
   ]
  },
  {
   "cell_type": "markdown",
   "metadata": {},
   "source": [
    "# Exercise 5\n",
    "(Random variable, conceptual)\n",
    "\n",
    "The probability distribution of a discrete random variable $X$ is given by\n",
    "\n",
    "$P(X=-1)=1/5, P(X=0)=2/5, P(X=1)=2/5$.\n",
    "\n",
    "1. Compute $E[X]$.\n",
    "1. Give the probability distribution of $Y=X^2$ and compute $E[Y]$ using the distribution of $Y$.\n",
    "1. Determine $E[X^2]$ using the change-of-variable formula. Check your answer against the answer in 2.\n",
    "1. Determine $Var(X)$."
   ]
  },
  {
   "cell_type": "code",
   "execution_count": 3,
   "metadata": {},
   "outputs": [
    {
     "name": "stdout",
     "output_type": "stream",
     "text": [
      "E[X] =  0.2\n",
      "E[Y] =  0.6000000000000001\n",
      "E[X^2] =  0.6000000000000001\n",
      "Var(X) =  0.56\n"
     ]
    }
   ],
   "source": [
    "\"\"\"\n",
    "\n",
    "The probability distribution of a discrete random variable $X$ is given by\n",
    "\n",
    "$P(X=-1)=1/5, P(X=0)=2/5, P(X=1)=2/5$.\n",
    "\n",
    "1. Compute $E[X]$.\n",
    "1. Give the probability distribution of $Y=X^2$ and compute $E[Y]$ using the distribution of $Y$.\n",
    "1. Determine $E[X^2]$ using the change-of-variable formula. Check your answer against the answer in 2.\n",
    "1. Determine $Var(X)$.\n",
    "\"\"\"\n",
    "\n",
    "# 1\n",
    "\n",
    "print(\"E[X] = \", -1*1/5 + 0*2/5 + 1*2/5)\n",
    "\n",
    "# 2\n",
    "\n",
    "print(\"E[Y] = \", 1*1/5 + 0*2/5 + 1*2/5)\n",
    "\n",
    "# 3\n",
    "\n",
    "print(\"E[X^2] = \", 1*1/5 + 0*2/5 + 1*2/5)\n",
    "\n",
    "# 4\n",
    "\n",
    "print(\"Var(X) = \", 1*1/5 + 0*2/5 + 1*2/5 - (-1*1/5 + 0*2/5 + 1*2/5)**2)\n",
    "\n"
   ]
  },
  {
   "cell_type": "markdown",
   "metadata": {},
   "source": [
    "# Exercise 6\n",
    "(binomial distribution, applied)\n",
    "\n",
    "A sailor is trying to walk on a slippery deck, but because of the movements of the ship, he can make exactly one step every second, either forward (with probability $p=0.5$) or backward (with probability $1-p=0.5$). Using the `scipy.stats.binom` package, determine the probability that the sailor is in position +8 after 16 seconds."
   ]
  },
  {
   "cell_type": "code",
   "execution_count": 2,
   "metadata": {},
   "outputs": [
    {
     "name": "stdout",
     "output_type": "stream",
     "text": [
      "Probability of being in position +8 after 16 seconds is:  0.1963806152343748\n",
      "Probability of being in position +8 after 16 seconds is:  0.00390625\n"
     ]
    }
   ],
   "source": [
    "\"\"\"\n",
    "A sailor is trying to walk on a slippery deck, but because of the movements of the ship, he can make exactly one step every second, either forward (with probability $p=0.5$) or backward (with probability $1-p=0.5$). Using the `scipy.stats.binom` package, determine the probability that the sailor is in position +8 after 16 seconds.\n",
    "\"\"\"\n",
    "from scipy.stats import binom\n",
    "from scipy.stats import geom\n",
    "\n",
    "import matplotlib.pyplot as plt\n",
    "import numpy as np\n",
    "import random\n",
    "\n",
    "\n",
    "# Your code here\n",
    "n = 16\n",
    "p = 0.5\n",
    "k = 8\n",
    "\n",
    "print(\"Probability of being in position +8 after 16 seconds is: \", binom.pmf(k, n, p))\n",
    "\n"
   ]
  },
  {
   "cell_type": "markdown",
   "metadata": {},
   "source": [
    "## Exercise 7\n",
    "(geometric distribution, applied)\n",
    "\n",
    "In order to finish a board game, a player must get an exact 3 on a regular die. Using the `scipy.stats.geom` package, determine how many tries will it take to win the game (on average)? What are the best and worst cases?"
   ]
  },
  {
   "cell_type": "markdown",
   "metadata": {},
   "source": [
    "## Exercise 8\n",
    "(gamma distribution, applied)\n",
    "\n",
    "The grades from an exam roughly follow a Gamma distribution with parameters $k=9$ (shape parameter) and $\\theta=0.5$ (scale parameter). Using the `scipy.stats.gamma` package, determine what percentage of students will pass the exam, if the minimum score is 3."
   ]
  }
 ],
 "metadata": {
  "kernelspec": {
   "display_name": "Python 3 (ipykernel)",
   "language": "python",
   "name": "python3"
  },
  "language_info": {
   "codemirror_mode": {
    "name": "ipython",
    "version": 3
   },
   "file_extension": ".py",
   "mimetype": "text/x-python",
   "name": "python",
   "nbconvert_exporter": "python",
   "pygments_lexer": "ipython3",
   "version": "3.11.4"
  }
 },
 "nbformat": 4,
 "nbformat_minor": 4
}
