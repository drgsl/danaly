{
 "cells": [
  {
   "cell_type": "markdown",
   "metadata": {},
   "source": [
    "# AdaBoost\n",
    "\n",
    "A quick reminder on how AdaBoost works: https://youtu.be/LsK-xG1cLYA BAM! Note that this video uses Gini index instead of Entropy and resamples the dataset instead of summing the error weights, but the general approach is the same as the one presented in the lecture."
   ]
  },
  {
   "cell_type": "markdown",
   "metadata": {},
   "source": [
    "Key ideas:\n",
    "* training: train multiple weak learners and assign them a weighted vote\n",
    "* classification: predict the class that gets the most weighted votes\n",
    "\n",
    "Advantages:\n",
    "* simple (few parameters)\n",
    "* robust to noisy training\n",
    "* performs well in practice\n",
    "\n",
    "Disadvantages:\n",
    "* needs a termination condition (requires meta-optimisation)\n",
    "* sensitive to outliers"
   ]
  },
  {
   "cell_type": "markdown",
   "metadata": {},
   "source": [
    "## Algorithm\n",
    "\n",
    "Training:\n",
    "\n",
    "1. Initiate the observation weights using the uniform distribution $D_1(i) = {1 \\over m}$, where $i=1,...,m$ represents an instance.\n",
    "1. For each iteration $t=1,...,T$:\n",
    "  1. Fit a weak classifier $h_t$ on the training data, using weights from $D_t$.\n",
    "  1. Compute weighted training error of classifier $h_t$:\n",
    "  $$\n",
    "  \\epsilon_t = err_{D_t}(h_t) = Pr_{D_t}(\\{x|y \\neq h_t(x)\\})\n",
    "  $$\n",
    "  1. Compute the weight of the \"vote\" of classifier $h_t$:\n",
    "  $$\n",
    "  \\alpha_t = {1 \\over 2}ln{1-\\epsilon_t \\over \\epsilon_t}\n",
    "  $$\n",
    "  1. Update the observation weights using the update rule:\n",
    "  $$\n",
    "  D_{t+1}(i)={1 \\over Z_t} D_t(i)e^{-\\alpha_t y_i h_t(x_i)}, \n",
    "  $$\n",
    "  for $i=1,...,m$ and $ \\forall t \\geq 1$, where $Z_t$ is the normalisation factor (such that the sum of all values in $D_{t+1}$ remains 1).\n",
    "  \n",
    "Classification:\n",
    "\n",
    "1. Output the weighted majority vote:\n",
    "$$\n",
    "H_T(x) = sign(\\sum_{t=1}^T \\alpha_t h_t(x))\n",
    "$$\n",
    "\n",
    "Note that the algorithm doesn't specify how the weak classifier $h_t$ should look like. In practice (and in the examples below) we will typically use a decision tree classifier with a single decision node."
   ]
  },
  {
   "cell_type": "markdown",
   "metadata": {},
   "source": [
    "## Classification\n",
    "\n",
    "Given a dataset like the following:"
   ]
  },
  {
   "cell_type": "code",
   "execution_count": 1,
   "metadata": {},
   "outputs": [
    {
     "data": {
      "image/png": "[encoded data removed]",
      "text/plain": [
       "<Figure size 360x360 with 1 Axes>"
      ]
     },
     "metadata": {
      "needs_background": "light"
     },
     "output_type": "display_data"
    }
   ],
   "source": [
    "import pandas as pd\n",
    "import matplotlib.pyplot as plt\n",
    "d = pd.DataFrame({\n",
    "    'X1': [-1, 0, 0, 1, 1, 1, 2, 2],\n",
    "    'X2': [1, 1, 2, -1, 0, 2, 2, 3],\n",
    "    'Y': [0, 1, 0, 0, 1, 1, 0, 1]\n",
    "})\n",
    "X, Y = d[['X1', 'X2']], d['Y']\n",
    "\n",
    "c= ['green' if l == 0 else 'red' for l in Y]\n",
    "fig, ax = plt.subplots(figsize=(5, 5))\n",
    "plt.scatter(X['X1'], X['X2'], color=c)\n",
    "plt.show()"
   ]
  },
  {
   "cell_type": "markdown",
   "metadata": {},
   "source": [
    "we can use [`AdaBoostClassifier`](https://scikit-learn.org/stable/modules/generated/sklearn.ensemble.AdaBoostClassifier.html#sklearn.ensemble.AdaBoostClassifier) from [`sklearn.ensemble`](https://scikit-learn.org/stable/modules/classes.html#module-sklearn.ensemble) to classify the point at (0, 0) using 5 weak learners with:"
   ]
  },
  {
   "cell_type": "code",
   "execution_count": 2,
   "metadata": {},
   "outputs": [
    {
     "data": {
      "text/plain": [
       "array([1])"
      ]
     },
     "execution_count": 2,
     "metadata": {},
     "output_type": "execute_result"
    }
   ],
   "source": [
    "from sklearn.ensemble import AdaBoostClassifier\n",
    "ab = AdaBoostClassifier(algorithm=\"SAMME\", n_estimators=5).fit(X, Y)\n",
    "ab.predict([[0, 0]])"
   ]
  },
  {
   "cell_type": "markdown",
   "metadata": {},
   "source": [
    "We can visualise the decision surface using `matplotlib`:"
   ]
  },
  {
   "cell_type": "code",
   "execution_count": 3,
   "metadata": {},
   "outputs": [
    {
     "data": {
      "image/png": "[encoded data removed]",
      "text/plain": [
       "<Figure size 432x432 with 1 Axes>"
      ]
     },
     "metadata": {
      "needs_background": "light"
     },
     "output_type": "display_data"
    }
   ],
   "source": [
    "from tools.plots import plot_decision_surface\n",
    "ab = AdaBoostClassifier(algorithm=\"SAMME\", n_estimators=5).fit(X, Y)\n",
    "plot_decision_surface(ab, X, Y)"
   ]
  },
  {
   "cell_type": "markdown",
   "metadata": {},
   "source": [
    "In the particular case where the number of estimators is 1, the decision surface corresponds of a simple decision tree with a single split (usually called \"decision stump\"):"
   ]
  },
  {
   "cell_type": "code",
   "execution_count": 4,
   "metadata": {},
   "outputs": [
    {
     "data": {
      "image/png": "[encoded data removed]",
      "text/plain": [
       "<Figure size 432x432 with 1 Axes>"
      ]
     },
     "metadata": {
      "needs_background": "light"
     },
     "output_type": "display_data"
    }
   ],
   "source": [
    "ab = AdaBoostClassifier(algorithm=\"SAMME\", n_estimators=1).fit(X, Y)\n",
    "plot_decision_surface(ab, X, Y)"
   ]
  },
  {
   "cell_type": "markdown",
   "metadata": {},
   "source": [
    "Some of the most useful attributes provided by this learner are:\n",
    "\n",
    "* `classes_` Class labels known to the classifier.\n",
    "* `estimators_` The collection of fitted sub-estimators (each $h_t$ in from the algorithm).\n",
    "* `estimator_weights_` Weights for each estimator in the boosted ensemble. Note that `sklearn` uses a version of the algorithm where the weight are not multiplied by $1/2$, so these values are actually equal to $2 \\alpha_t$ from the algorithm.\n",
    "* `estimator_errors_` Classification error for each estimator in the boosted ensemble (each $\\epsilon_t$ from the algorithm)."
   ]
  },
  {
   "cell_type": "markdown",
   "metadata": {},
   "source": [
    "---\n",
    "**Give it a try!**\n",
    "\n",
    "For the dataset below, find the weak learner and calculate $\\epsilon_1$ and $\\alpha_1$, then compare your results with `estimator_errors_` and `estimator_weights_` for `AdaBoostClassifier(algorithm=\"SAMME\", n_estimators=1)`."
   ]
  },
  {
   "cell_type": "code",
   "execution_count": 5,
   "metadata": {},
   "outputs": [],
   "source": [
    "import pandas as pd\n",
    "from sklearn.tree import DecisionTreeClassifier\n",
    "d1 = pd.DataFrame({\n",
    "    'Chest Pain': [1, 0, 1, 1, 0, 0, 1, 1],\n",
    "    'Blocked Arteries': [1, 1, 0, 1, 1, 1, 0, 1],\n",
    "    'Patient Weight': [205, 180, 210, 167, 156, 125, 168, 172],\n",
    "    'Heart Disease': [1, 1, 1, 1, 0, 0, 0, 0]\n",
    "})\n",
    "X1, y1 = d1[['Chest Pain', 'Blocked Arteries', 'Patient Weight']], d1['Heart Disease']\n",
    "# Your code here"
   ]
  },
  {
   "cell_type": "markdown",
   "metadata": {},
   "source": [
    "Expected results:\n",
    "\n",
    "* $\\epsilon_1$:  1/8 = 0.126\n",
    "* $\\alpha_1$: 1.9459101490553132\n",
    "\n",
    "---"
   ]
  },
  {
   "cell_type": "markdown",
   "metadata": {},
   "source": [
    "## Specifying the weak learner\n",
    "\n",
    "By default, this will use a `DecisionTreeClassifier` with `criterion='gini'` and `max_depth=1`. This can be configured through the `base_estimator` parameter. For example, if we want to use the entropy as a selection criterion for the underlying weak learner and to change `max_depth` to 1, we can specify it like this:"
   ]
  },
  {
   "cell_type": "code",
   "execution_count": 6,
   "metadata": {},
   "outputs": [],
   "source": [
    "from sklearn.tree import DecisionTreeClassifier\n",
    "be = DecisionTreeClassifier(criterion='entropy', max_depth=2)\n",
    "ab = AdaBoostClassifier(base_estimator=be, algorithm=\"SAMME\", n_estimators=1).fit(X, Y)"
   ]
  },
  {
   "cell_type": "markdown",
   "metadata": {},
   "source": [
    "Plotting the decision surface of the AdaBoost classifier now shows a more complex decision surface even if `n_estimators` is still 1, which confirms that `max_depth` has been changed:"
   ]
  },
  {
   "cell_type": "code",
   "execution_count": 7,
   "metadata": {},
   "outputs": [
    {
     "data": {
      "image/png": "[encoded data removed]",
      "text/plain": [
       "<Figure size 432x432 with 1 Axes>"
      ]
     },
     "metadata": {
      "needs_background": "light"
     },
     "output_type": "display_data"
    }
   ],
   "source": [
    "plot_decision_surface(ab, X, Y)"
   ]
  },
  {
   "cell_type": "markdown",
   "metadata": {},
   "source": [
    "## Accuracy\n",
    "\n",
    "Training and cross-validation can be performed just like for any algorithm, using `AdaBoostClassifier.score()` and `sklearn.model_selection.cross_val_score`."
   ]
  },
  {
   "cell_type": "markdown",
   "metadata": {},
   "source": [
    "---\n",
    "**Give it a try!**\n",
    "\n",
    "For the `breast_cancer` dataset, compare the accuracy of `AdaBoostClassifier(algorithm=\"SAMME\")` with that of a `DecisionTreeClassifier(criterion='entropy')` using 5-fold cross-validation."
   ]
  },
  {
   "cell_type": "code",
   "execution_count": 8,
   "metadata": {},
   "outputs": [],
   "source": [
    "from sklearn.datasets import load_breast_cancer\n",
    "from sklearn.tree import DecisionTreeClassifier\n",
    "from sklearn.ensemble import AdaBoostClassifier\n",
    "from sklearn.model_selection import cross_val_score\n",
    "\n",
    "X, y = load_breast_cancer(return_X_y=True, as_frame=True)\n",
    "# Your code here"
   ]
  },
  {
   "cell_type": "markdown",
   "metadata": {},
   "source": [
    "Expected result:\n",
    "\n",
    "```\n",
    "AdaBoost:  0.9666200900481291\n",
    "ID3: 0.9367489520260829\n",
    "```\n",
    "---"
   ]
  }
 ],
 "metadata": {
  "kernelspec": {
   "display_name": "Python 3",
   "language": "python",
   "name": "python3"
  },
  "language_info": {
   "codemirror_mode": {
    "name": "ipython",
    "version": 3
   },
   "file_extension": ".py",
   "mimetype": "text/x-python",
   "name": "python",
   "nbconvert_exporter": "python",
   "pygments_lexer": "ipython3",
   "version": "3.7.5"
  }
 },
 "nbformat": 4,
 "nbformat_minor": 4
}
