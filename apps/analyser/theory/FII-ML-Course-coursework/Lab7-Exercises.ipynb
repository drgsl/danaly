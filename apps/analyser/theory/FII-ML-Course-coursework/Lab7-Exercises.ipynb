{
 "cells": [
  {
   "cell_type": "markdown",
   "metadata": {},
   "source": [
    "# k-Nearest Neighbours"
   ]
  },
  {
   "cell_type": "markdown",
   "metadata": {},
   "source": [
    "## Exercise 1\n",
    "\n",
    "Ternary classification\n",
    "\n",
    "Given three points R=(-1, 0), G=(0, 1), B=(1, 0), colored in red, green and blue, respectively. Using `matplotlib`, create a plot that shows the decision surface of the 1-NN classifier using these three points as a dataset with three different classes, similart to the way `plot_decision_surface_knn` works for two classes (the function is located in `tools/plots.py`)."
   ]
  },
  {
   "cell_type": "markdown",
   "metadata": {},
   "source": [
    "## Exercise 2\n",
    "Accuracy comparison with ID3\n",
    "\n",
    "Considering the dataset below:\n",
    "1. plot the points using the `scatter` function from `matplotlib`;\n",
    "1. compare the training accuracy of 1-NN and ID3;\n",
    "1. compare the CVLOO accuracy of 1-NN and ID3."
   ]
  },
  {
   "cell_type": "code",
   "execution_count": 27,
   "metadata": {},
   "outputs": [],
   "source": [
    "import pandas as pd\n",
    "d = pd.DataFrame({\n",
    "    'X1': [1, 2, 4, 5, 7],\n",
    "    'X2': [2, 1, 5, 4, 3],\n",
    "    'Y': [0, 0, 0, 1, 1]\n",
    "})\n",
    "X, Y = d[['X1', 'X2']], d['Y']"
   ]
  },
  {
   "cell_type": "markdown",
   "metadata": {},
   "source": [
    "## Exercise 3\n",
    "1-NN decision boundary\n",
    "\n",
    "Using the code below, change the value of the `boundary` variable such that it correctly represents the decision boundary for 1-NN between the two classes of points. You can specify hard-coded values (you don't have to calculate them in Python)."
   ]
  },
  {
   "cell_type": "code",
   "execution_count": 58,
   "metadata": {},
   "outputs": [
    {
     "data": {
      "image/png": "[encoded data removed]",
      "text/plain": [
       "<Figure size 360x360 with 1 Axes>"
      ]
     },
     "metadata": {
      "needs_background": "light"
     },
     "output_type": "display_data"
    }
   ],
   "source": [
    "import pandas as pd\n",
    "from scipy.spatial import Voronoi, voronoi_plot_2d\n",
    "d = pd.DataFrame({\n",
    "    'X1': [2, 2, 3, 6, 8, 10, 10, 13, 14],\n",
    "    'X2': [1, 8, 6, 10, 4, 6, 14, 13, 8],\n",
    "    'Y': [0, 0, 0, 0, 0, 1, 1, 1, 1]\n",
    "})\n",
    "X, Y = d[['X1', 'X2']], d['Y']\n",
    "\n",
    "# Correct this line\n",
    "boundary=pd.DataFrame([(0,16),(16,0)], columns=['x','y'])\n",
    "\n",
    "import matplotlib.pyplot as plt\n",
    "c= ['white' if l == 0 else 'black' for l in Y]\n",
    "fig, ax = plt.subplots(figsize=(5, 5))\n",
    "ax.set_axisbelow(True)\n",
    "plt.scatter(X['X1'], X['X2'], color=c, edgecolor='k')\n",
    "plt.xlim(0, 16)\n",
    "plt.ylim(0, 16)\n",
    "plt.plot(boundary['x'],boundary['y'])\n",
    "plt.grid(linestyle='dashed')\n",
    "plt.show()"
   ]
  },
  {
   "cell_type": "markdown",
   "metadata": {},
   "source": [
    "## Exercise 4\n",
    "Finding optimum value for $k$\n",
    "\n",
    "For the dataset below:\n",
    "1. plot the points using `pyplot.scatter`;\n",
    "1. plot a line chart using `pyplot.plot` that shows the training error and the CVLOO error of k-NN for all values of $k$ between 1 and 15. \n",
    "1. What is the best value of $k$ in this case?"
   ]
  },
  {
   "cell_type": "code",
   "execution_count": 50,
   "metadata": {},
   "outputs": [],
   "source": [
    "from scipy.stats import norm\n",
    "import pandas as pd\n",
    "import numpy as np\n",
    "x_red = norm.rvs(0, 1, 100, random_state=1)\n",
    "y_red = norm.rvs(0, 1, 100, random_state=2)\n",
    "x_green = norm.rvs(1, 1, 100, random_state=3)\n",
    "y_green = norm.rvs(1, 1, 100, random_state=4)\n",
    "d = pd.DataFrame({\n",
    "    'X1': np.concatenate([x_red,x_green]),\n",
    "    'X2': np.concatenate([y_red,y_green]),\n",
    "    'Y': [1]*100+[0]*100\n",
    "})\n",
    "X, Y = d[['X1', 'X2']], d['Y']"
   ]
  },
  {
   "cell_type": "markdown",
   "metadata": {},
   "source": [
    "## Exercise 5\n",
    "Large number of attributes\n",
    "\n",
    "Considering the following dataset (attributes in the `X` variable and labels in the `Y` variable):\n",
    "1. Measure the CVLOO accuracy for 5-NN;\n",
    "1. Measure the CVLOO accuracy for ID3;\n",
    "1. What is the reason for the difference?\n",
    "1. What can be done to improve the accuracy of 5-NN? If something can be done, what is the new accuracy?"
   ]
  },
  {
   "cell_type": "code",
   "execution_count": 101,
   "metadata": {},
   "outputs": [],
   "source": [
    "from scipy.stats import norm\n",
    "import pandas as pd\n",
    "from statistics import median\n",
    "\n",
    "def new_var(n):\n",
    "    return norm.rvs(0, 1, 100, random_state=n)\n",
    "\n",
    "d = {f'X{i}':new_var(i) for i in range(10)}\n",
    "m = median(X['X2'])\n",
    "\n",
    "X = pd.DataFrame(d)\n",
    "Y = pd.Series([0 if i < m else 1 for i in X['X2']])"
   ]
  },
  {
   "cell_type": "markdown",
   "metadata": {},
   "source": [
    "## Exercise 6\n",
    "Comparison between k-NN and ID3\n",
    "\n",
    "Create a simple two-dimensional dataset on which the CVLOO accuracy is at least 75% for 3-NN, but less than 50% for ID3 (with entropy and no prunning). Plot the dataset using `matplotlib.pyplot` and calculate the CVLOO accuracy for 3-NN and ID3 for confirmation."
   ]
  }
 ],
 "metadata": {
  "kernelspec": {
   "display_name": "Python 3",
   "language": "python",
   "name": "python3"
  },
  "language_info": {
   "codemirror_mode": {
    "name": "ipython",
    "version": 3
   },
   "file_extension": ".py",
   "mimetype": "text/x-python",
   "name": "python",
   "nbconvert_exporter": "python",
   "pygments_lexer": "ipython3",
   "version": "3.7.5"
  }
 },
 "nbformat": 4,
 "nbformat_minor": 4
}
