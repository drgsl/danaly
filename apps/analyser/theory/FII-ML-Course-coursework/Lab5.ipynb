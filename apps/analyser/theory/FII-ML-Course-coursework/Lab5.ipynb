{
 "cells": [
  {
   "cell_type": "markdown",
   "metadata": {},
   "source": [
    "## Overfitting\n",
    "\n",
    "Measuring the performance on the same dataset on which a model is fitted can be misleading, especially in the presence of noise. Most models can learn the training instances very well, leading to a training performance that will be very high, but may fail to generalise, so the \"true\" performance, when trying to predict a new dataset, will be significantly lower. This phenomenon is called _overfitting_.\n",
    "\n",
    "For instance, on this dataset:\n"
   ]
  },
  {
   "cell_type": "code",
   "execution_count": 1,
   "metadata": {},
   "outputs": [
    {
     "data": {
      "text/html": [
       "<div>\n",
       "<style scoped>\n",
       "    .dataframe tbody tr th:only-of-type {\n",
       "        vertical-align: middle;\n",
       "    }\n",
       "\n",
       "    .dataframe tbody tr th {\n",
       "        vertical-align: top;\n",
       "    }\n",
       "\n",
       "    .dataframe thead th {\n",
       "        text-align: right;\n",
       "    }\n",
       "</style>\n",
       "<table border=\"1\" class=\"dataframe\">\n",
       "  <thead>\n",
       "    <tr style=\"text-align: right;\">\n",
       "      <th></th>\n",
       "      <th>X</th>\n",
       "      <th>Y</th>\n",
       "    </tr>\n",
       "  </thead>\n",
       "  <tbody>\n",
       "    <tr>\n",
       "      <th>0</th>\n",
       "      <td>1.0</td>\n",
       "      <td>0</td>\n",
       "    </tr>\n",
       "    <tr>\n",
       "      <th>1</th>\n",
       "      <td>2.0</td>\n",
       "      <td>0</td>\n",
       "    </tr>\n",
       "    <tr>\n",
       "      <th>2</th>\n",
       "      <td>3.0</td>\n",
       "      <td>0</td>\n",
       "    </tr>\n",
       "    <tr>\n",
       "      <th>3</th>\n",
       "      <td>4.0</td>\n",
       "      <td>0</td>\n",
       "    </tr>\n",
       "    <tr>\n",
       "      <th>4</th>\n",
       "      <td>6.0</td>\n",
       "      <td>1</td>\n",
       "    </tr>\n",
       "    <tr>\n",
       "      <th>5</th>\n",
       "      <td>7.0</td>\n",
       "      <td>1</td>\n",
       "    </tr>\n",
       "    <tr>\n",
       "      <th>6</th>\n",
       "      <td>8.0</td>\n",
       "      <td>1</td>\n",
       "    </tr>\n",
       "    <tr>\n",
       "      <th>7</th>\n",
       "      <td>8.5</td>\n",
       "      <td>0</td>\n",
       "    </tr>\n",
       "    <tr>\n",
       "      <th>8</th>\n",
       "      <td>9.0</td>\n",
       "      <td>1</td>\n",
       "    </tr>\n",
       "    <tr>\n",
       "      <th>9</th>\n",
       "      <td>10.0</td>\n",
       "      <td>1</td>\n",
       "    </tr>\n",
       "  </tbody>\n",
       "</table>\n",
       "</div>"
      ],
      "text/plain": [
       "      X  Y\n",
       "0   1.0  0\n",
       "1   2.0  0\n",
       "2   3.0  0\n",
       "3   4.0  0\n",
       "4   6.0  1\n",
       "5   7.0  1\n",
       "6   8.0  1\n",
       "7   8.5  0\n",
       "8   9.0  1\n",
       "9  10.0  1"
      ]
     },
     "execution_count": 1,
     "metadata": {},
     "output_type": "execute_result"
    }
   ],
   "source": [
    "import pandas as pd\n",
    "d = pd.DataFrame({'X': [1, 2, 3, 4, 6, 7, 8, 8.5, 9, 10],\n",
    "                  'Y': [0, 0, 0, 0, 1, 1, 1, 0, 1, 1]})\n",
    "d"
   ]
  },
  {
   "cell_type": "markdown",
   "metadata": {},
   "source": [
    "the training performance for a decision tree is:"
   ]
  },
  {
   "cell_type": "code",
   "execution_count": 2,
   "metadata": {},
   "outputs": [
    {
     "data": {
      "text/plain": [
       "1.0"
      ]
     },
     "execution_count": 2,
     "metadata": {},
     "output_type": "execute_result"
    }
   ],
   "source": [
    "from sklearn import tree\n",
    "X = d[['X']]\n",
    "y = d['Y']\n",
    "dt = tree.DecisionTreeClassifier(criterion='entropy').fit(X,y)\n",
    "dt.score(X, y)"
   ]
  },
  {
   "cell_type": "markdown",
   "metadata": {},
   "source": [
    "So it can correctly predict every instance seen in the training dataset.\n",
    "\n",
    "But what if $X=9$ and $X=1$ were not available in the training dataset, what would be the accuracy on the original dataset (that does include them)?"
   ]
  },
  {
   "cell_type": "code",
   "execution_count": 3,
   "metadata": {},
   "outputs": [
    {
     "data": {
      "text/plain": [
       "0.9"
      ]
     },
     "execution_count": 3,
     "metadata": {},
     "output_type": "execute_result"
    }
   ],
   "source": [
    "d1 = d.drop([1, 8])\n",
    "X1 = d1[['X']]\n",
    "y1 = d1['Y']\n",
    "dt = tree.DecisionTreeClassifier(criterion='entropy').fit(X1,y1)\n",
    "dt.score(X, y)"
   ]
  },
  {
   "cell_type": "markdown",
   "metadata": {},
   "source": [
    "So one of the points was still predicted correctly, but one was not, even if the training accuracy is 100%. \n",
    "\n",
    "_Overfitting_ is particularly important for algorithms like decision trees, which will always have perfect accuracy on a consistent dataset, but that doesn't mean that they will predict 100% accurately any new data points."
   ]
  },
  {
   "cell_type": "markdown",
   "metadata": {},
   "source": [
    "## Testing accuracy"
   ]
  },
  {
   "cell_type": "markdown",
   "metadata": {},
   "source": [
    "One way to counter this measurement problem is to train on only a part of the dataset and measure performance on the remaining portion, called a _test set_. Common ratios between the training set and the test set are 3:1 or 4:1.\n",
    "\n",
    "We can do this in Python using the `train_test_split()` function:"
   ]
  },
  {
   "cell_type": "code",
   "execution_count": 4,
   "metadata": {},
   "outputs": [
    {
     "name": "stdout",
     "output_type": "stream",
     "text": [
      "Training accuracy: 1.0\n",
      "Testing accuracy: 0.6666666666666666\n"
     ]
    }
   ],
   "source": [
    "from sklearn.model_selection import train_test_split\n",
    "X_train, X_test, y_train, y_test = train_test_split(X, y, test_size=0.3, random_state=0)\n",
    "dt = tree.DecisionTreeClassifier(criterion='entropy').fit(X_train,y_train)\n",
    "print(\"Training accuracy:\", dt.score(X_train, y_train))\n",
    "print(\"Testing accuracy:\", dt.score(X_test, y_test))"
   ]
  },
  {
   "cell_type": "markdown",
   "metadata": {},
   "source": [
    "Training accuracy is still 100%, while testing accuracy is significantly lower, but it does gives a better indication on how this model performs on unseen data."
   ]
  },
  {
   "cell_type": "markdown",
   "metadata": {},
   "source": [
    "---\n",
    "**Give it a try!**\n",
    "\n",
    "For the iris dataset, calculate the training and testing accuracies using `train_test_split()` with parameters:\n",
    "\n",
    "* `test_size=0.3` and `random_state=0`;\n",
    "* `test_size=0.3` and `random_state=1`."
   ]
  },
  {
   "cell_type": "code",
   "execution_count": 5,
   "metadata": {},
   "outputs": [],
   "source": [
    "from sklearn.datasets import load_iris\n",
    "import pandas as pd\n",
    "import numpy as np\n",
    "\n",
    "iris = load_iris()\n",
    "d1 = pd.DataFrame(\n",
    "    data = np.c_[iris['data'], pd.Categorical.from_codes(iris.target, iris.target_names)],\n",
    "    columns= iris['feature_names'] + ['class'])\n",
    "\n",
    "dt = tree.DecisionTreeClassifier(criterion='entropy', random_state=1)\n",
    "# Your code here"
   ]
  },
  {
   "cell_type": "markdown",
   "metadata": {},
   "source": [
    "Expected results:\n",
    "\n",
    "* for `random_state=0`: training acc: 1, testing acc: 0.9777777777777777\n",
    "* for `random_state=1`: training acc: 1, testing acc: 0.9555555555555556"
   ]
  },
  {
   "cell_type": "markdown",
   "metadata": {},
   "source": [
    "---"
   ]
  },
  {
   "cell_type": "markdown",
   "metadata": {},
   "source": [
    "## Cross-validation\n",
    "\n",
    "However, by partitioning the available data into multiple sets, we drastically reduce the number of samples which can be used for learning the model, and the results can depend on a particular random choice for the pair of (train, validation) sets.\n",
    "\n",
    "An even more advanced strategy is to repeat the entire procedure multiple times and, in turn, use each part of the dataset as the test set. This is called _cross validation_ (_CV_).\n",
    "\n",
    "* Partition the available data D into k disjoint subsets of equal size\n",
    "* Remove, in turn, each subset from D and train the algorithm on the remaining instances\n",
    "* Apply the trained algorithm on the saved subset and count the errors\n",
    "* The total error for cross-validation is the sum of errors at each step\n",
    "\n",
    "![Cross Validation](img/cross_validation.png)"
   ]
  },
  {
   "cell_type": "markdown",
   "metadata": {},
   "source": [
    "Using `cross_val_predict()` or just `cross_val_score()` we can get the accuracy score for each of the 5 splits, which we can then average for a final CV mean score:"
   ]
  },
  {
   "cell_type": "code",
   "execution_count": 6,
   "metadata": {},
   "outputs": [
    {
     "name": "stdout",
     "output_type": "stream",
     "text": [
      "CV scores: [1.  1.  0.5 0.5 0.5]\n",
      "Mean CV score:  0.7\n"
     ]
    }
   ],
   "source": [
    "from sklearn.model_selection import cross_val_score\n",
    "from statistics import mean\n",
    "classifier = tree.DecisionTreeClassifier(criterion='entropy')\n",
    "scores = cross_val_score(classifier, X, y, cv=5)\n",
    "print(\"CV scores:\", scores)\n",
    "print(\"Mean CV score: \", mean(scores))"
   ]
  },
  {
   "cell_type": "markdown",
   "metadata": {},
   "source": [
    "A variation of this is to use very many folds, up to just using one fold for each instance, which is usually called _CV leave-one-out_ (_CVLOO_).\n",
    "\n",
    "This is available as `LeaveOneOut()`, while a more general `LeavePOut()` function is also available, so we can do a CVLOO with:"
   ]
  },
  {
   "cell_type": "code",
   "execution_count": 7,
   "metadata": {},
   "outputs": [
    {
     "name": "stdout",
     "output_type": "stream",
     "text": [
      "CVLOO scores: [1. 1. 1. 1. 1. 1. 0. 0. 0. 1.]\n",
      "Mean CVLOO score:  0.7\n"
     ]
    }
   ],
   "source": [
    "from sklearn.model_selection import LeaveOneOut\n",
    "loo = LeaveOneOut()\n",
    "scores = cross_val_score(classifier, X, y, cv=loo)\n",
    "print(\"CVLOO scores:\", scores)\n",
    "print(\"Mean CVLOO score: \", mean(scores))"
   ]
  },
  {
   "cell_type": "markdown",
   "metadata": {},
   "source": [
    "Average accuracy for CLOO and 5-fold CV are usually close and using one over the other depends on the size of the dataset, since CVLOO running time scales with the size of the dataset, while 5-fold CV always does exactly 5 train-predict runs.\n",
    "\n",
    "For more details see https://scikit-learn.org/stable/modules/cross_validation.html"
   ]
  },
  {
   "cell_type": "markdown",
   "metadata": {},
   "source": [
    "---\n",
    "**Give it a try!**\n",
    "\n",
    "For the iris dataset, calculate the cross-validation accuracy using `cross_val_score()` with:\n",
    "\n",
    "* `cv=KFold(n_splits=5, shuffle=True, random_state=0)` \n",
    "* `cv=KFold(n_splits=5, shuffle=True, random_state=1)`"
   ]
  },
  {
   "cell_type": "code",
   "execution_count": 8,
   "metadata": {},
   "outputs": [],
   "source": [
    "from sklearn.datasets import load_iris\n",
    "from sklearn.model_selection import KFold\n",
    "\n",
    "iris = load_iris()\n",
    "d1 = pd.DataFrame(\n",
    "    data = np.c_[iris['data'], pd.Categorical.from_codes(iris.target, iris.target_names)],\n",
    "    columns= iris['feature_names'] + ['class'])\n",
    "\n",
    "classifier = tree.DecisionTreeClassifier(criterion='entropy', random_state=3)\n",
    "# Your code here"
   ]
  },
  {
   "cell_type": "markdown",
   "metadata": {},
   "source": [
    "Expected results:\n",
    "\n",
    "* for `random_state=0`, accuracy: 0.9533333333333334\n",
    "* for `random_state=1`, accuracy: 0.9400000000000001"
   ]
  },
  {
   "cell_type": "markdown",
   "metadata": {},
   "source": [
    "---"
   ]
  },
  {
   "cell_type": "markdown",
   "metadata": {},
   "source": [
    "## Pruning decision trees\n",
    "\n",
    "Since cross-validation provides a better measurement in the context of overfitting, the models themselves could be improved by focusing on increasing the cross-validation performance instead of the training performance.\n",
    "\n",
    "For decision trees, a common technique is to actually reduce the size of the learned tree, which allows the models to generalise better. This effectively trades training performance for CV performance.\n",
    "\n",
    "Let's look again at the example above. The full learned tree is this:"
   ]
  },
  {
   "cell_type": "code",
   "execution_count": 9,
   "metadata": {},
   "outputs": [
    {
     "data": {
      "image/png": "[encoded data removed]",
      "text/plain": [
       "<Figure size 504x576 with 1 Axes>"
      ]
     },
     "metadata": {
      "needs_background": "light"
     },
     "output_type": "display_data"
    },
    {
     "name": "stdout",
     "output_type": "stream",
     "text": [
      "Training accuracy: 1.0\n",
      "Mean CVLOO accuracy:  0.7\n"
     ]
    }
   ],
   "source": [
    "import matplotlib.pyplot as plt\n",
    "X = d[['X']]\n",
    "y = d['Y']\n",
    "classifier = tree.DecisionTreeClassifier(criterion='entropy')\n",
    "# Fit and score on the entire dataset\n",
    "dt = classifier.fit(X, y)\n",
    "fig, ax = plt.subplots(figsize=(7, 8))\n",
    "f = tree.plot_tree(dt, ax=ax, fontsize=10, feature_names=X.columns)\n",
    "plt.show()\n",
    "print(\"Training accuracy:\", dt.score(X, y))\n",
    "# Fit multiple times and average the scores from the 10 CVLOO runs\n",
    "loo = LeaveOneOut()\n",
    "print(\"Mean CVLOO accuracy: \", mean(cross_val_score(classifier, X, y, cv=loo)))"
   ]
  },
  {
   "cell_type": "markdown",
   "metadata": {},
   "source": [
    "We can try to stop the tree from growing once it reaches a certain depth using the `max_depth` parameter:"
   ]
  },
  {
   "cell_type": "code",
   "execution_count": 10,
   "metadata": {},
   "outputs": [
    {
     "data": {
      "image/png": "[encoded data removed]",
      "text/plain": [
       "<Figure size 504x576 with 1 Axes>"
      ]
     },
     "metadata": {
      "needs_background": "light"
     },
     "output_type": "display_data"
    },
    {
     "name": "stdout",
     "output_type": "stream",
     "text": [
      "Training accuracy: 0.9\n",
      "Mean CVLOO accuracy:  0.9\n"
     ]
    }
   ],
   "source": [
    "classifier = tree.DecisionTreeClassifier(criterion='entropy', max_depth=1).fit(X,y)\n",
    "# Fit and score on the entire dataset\n",
    "dt = classifier.fit(X, y)\n",
    "fig, ax = plt.subplots(figsize=(7, 8))\n",
    "f = tree.plot_tree(dt, ax=ax, fontsize=10, feature_names=X.columns)\n",
    "plt.show()\n",
    "print(\"Training accuracy:\", dt.score(X, y))\n",
    "# Fit multiple times and average the scores from the 10 CVLOO runs\n",
    "loo = LeaveOneOut()\n",
    "print(\"Mean CVLOO accuracy: \", mean(cross_val_score(classifier, X, y, cv=loo)))"
   ]
  },
  {
   "cell_type": "markdown",
   "metadata": {},
   "source": [
    "We can see how the CVLOO accuracy has increased as the trees are now much simpler and the training accuracy has decreased slightly, to match the CVLOO accuracy.\n",
    "\n",
    "The correct value of `max_depth` in each case should be determined by simply trying different values in what is called _parameter tuning_ or the _metaoptimisation_ phase of a ML algorithm."
   ]
  },
  {
   "cell_type": "markdown",
   "metadata": {},
   "source": [
    "## Decision surface\n",
    "\n",
    "To get an intuitive feel for how the ID3 classifier works, we could use a 2D dataset with only 2 output classes:"
   ]
  },
  {
   "cell_type": "code",
   "execution_count": 11,
   "metadata": {},
   "outputs": [],
   "source": [
    "import pandas as pd\n",
    "d = pd.DataFrame({\n",
    "    'X1': [-1, 0, 0, 1, 1, 1, 2, 2],\n",
    "    'X2': [1, 1, 2, -1, 0, 2, 2, 3],\n",
    "    'y': [0, 1, 0, 0, 1, 1, 0, 1]\n",
    "})\n",
    "X, y = d[['X1', 'X2']], d['y']"
   ]
  },
  {
   "cell_type": "markdown",
   "metadata": {},
   "source": [
    "which we can plot using [`matplotlib`](https://matplotlib.org/):"
   ]
  },
  {
   "cell_type": "code",
   "execution_count": 12,
   "metadata": {},
   "outputs": [
    {
     "data": {
      "image/png": "[encoded data removed]",
      "text/plain": [
       "<Figure size 360x360 with 1 Axes>"
      ]
     },
     "metadata": {
      "needs_background": "light"
     },
     "output_type": "display_data"
    }
   ],
   "source": [
    "import matplotlib.pyplot as plt\n",
    "c= ['green' if l == 0 else 'red' for l in y]\n",
    "fig, ax = plt.subplots(figsize=(5, 5))\n",
    "plt.scatter(X['X1'], X['X2'], color=c)\n",
    "plt.show()"
   ]
  },
  {
   "cell_type": "markdown",
   "metadata": {},
   "source": [
    "where green represents class '0' and red represents class '1'.\n",
    "\n",
    "If we then train a decision tree classifier on this dataset, we can visualise the decision surface with:"
   ]
  },
  {
   "cell_type": "code",
   "execution_count": 13,
   "metadata": {},
   "outputs": [
    {
     "data": {
      "image/png": "[encoded data removed]",
      "text/plain": [
       "<Figure size 432x432 with 1 Axes>"
      ]
     },
     "metadata": {
      "needs_background": "light"
     },
     "output_type": "display_data"
    }
   ],
   "source": [
    "from tools.plots import plot_decision_surface\n",
    "\n",
    "classifier = tree.DecisionTreeClassifier(criterion='entropy').fit(X, y)\n",
    "plot_decision_surface(classifier, X, y)"
   ]
  },
  {
   "cell_type": "markdown",
   "metadata": {},
   "source": [
    "The green area represents all instances which this decision tree would classify as '0' and likewise any point in the red area will be classified as '1'.\n",
    "\n",
    "Note how the edge of the decision surface is always parallel to the axes. This is because decision trees can only learn binary splits at different points along the input variables; they cannot learn linear functions (such as a diagonal line). On the lower left side for example, a diagonal line would better separate the two outer green points, but the decision tree approximates that using a vertical and a horizontal line.\n",
    "\n",
    "Even with this limitation they can perform very well in practice because a sufficiently deep tree can approximate any curved line with enough precision."
   ]
  },
  {
   "cell_type": "markdown",
   "metadata": {},
   "source": [
    "# Naive Bayes\n",
    "\n",
    "Bayesian classifiers and in particular the naive Bayes classifier are a family of probabilistic classification algorithms particularly suited to problems like text classification.\n",
    "\n",
    "When to use it:\n",
    "\n",
    "* The target function $f$ takes value from a finite set $V=\\{v_1,...,v_k\\}$\n",
    "* Moderate or large training data set is available\n",
    "* The attributes $<a_1,...,a_n>$ that describes instances are conditionally independent with respect to the given classification:\n",
    "\n",
    "$$P(a_1,a_2,...,a_n|v_j)=\\prod_i P(a_i|v_j)$$\n",
    "\n",
    "The most probable value of $f(x)$ is:\n",
    "\n",
    "\\begin{align}\n",
    "v_{MAP} &= \\mbox{argmax}_{v_j \\in V}P(v_j|a_1,a_2,...,a_n) \\\\\n",
    "      &= \\mbox{argmax}_{v_j \\in V}\\frac{P(a_1,a_2,...,a_n|v_j)P(v_j)}{P(a_1,a_2,...,a_n)}\\\\\n",
    "      &= \\mbox{argmax}_{v_j \\in V} P(a_1,a_2,...,a_n|v_j)P(v_j)\\\\\n",
    "      &= \\mbox{argmax}_{v_j \\in V} \\prod_i P(a_i|v_j)P(v_j)\n",
    "\\end{align}\n",
    "\n",
    "where MAP stands for [_maximum a posteriori probability_](https://en.wikipedia.org/wiki/Maximum_a_posteriori_estimation).\n",
    "\n",
    "As an example, let's consider a simplified dataset of only 12 messages, 8 of which are spam. For each message, only consider the words \"study\", \"free\" and \"money\":"
   ]
  },
  {
   "cell_type": "code",
   "execution_count": 14,
   "metadata": {},
   "outputs": [
    {
     "data": {
      "text/html": [
       "<div>\n",
       "<style scoped>\n",
       "    .dataframe tbody tr th:only-of-type {\n",
       "        vertical-align: middle;\n",
       "    }\n",
       "\n",
       "    .dataframe tbody tr th {\n",
       "        vertical-align: top;\n",
       "    }\n",
       "\n",
       "    .dataframe thead th {\n",
       "        text-align: right;\n",
       "    }\n",
       "</style>\n",
       "<table border=\"1\" class=\"dataframe\">\n",
       "  <thead>\n",
       "    <tr style=\"text-align: right;\">\n",
       "      <th></th>\n",
       "      <th>study</th>\n",
       "      <th>free</th>\n",
       "      <th>money</th>\n",
       "      <th>is_spam</th>\n",
       "    </tr>\n",
       "  </thead>\n",
       "  <tbody>\n",
       "    <tr>\n",
       "      <th>0</th>\n",
       "      <td>1</td>\n",
       "      <td>0</td>\n",
       "      <td>0</td>\n",
       "      <td>0</td>\n",
       "    </tr>\n",
       "    <tr>\n",
       "      <th>1</th>\n",
       "      <td>0</td>\n",
       "      <td>0</td>\n",
       "      <td>1</td>\n",
       "      <td>0</td>\n",
       "    </tr>\n",
       "    <tr>\n",
       "      <th>2</th>\n",
       "      <td>1</td>\n",
       "      <td>0</td>\n",
       "      <td>0</td>\n",
       "      <td>0</td>\n",
       "    </tr>\n",
       "    <tr>\n",
       "      <th>3</th>\n",
       "      <td>1</td>\n",
       "      <td>1</td>\n",
       "      <td>0</td>\n",
       "      <td>0</td>\n",
       "    </tr>\n",
       "    <tr>\n",
       "      <th>4</th>\n",
       "      <td>0</td>\n",
       "      <td>1</td>\n",
       "      <td>0</td>\n",
       "      <td>1</td>\n",
       "    </tr>\n",
       "    <tr>\n",
       "      <th>5</th>\n",
       "      <td>0</td>\n",
       "      <td>1</td>\n",
       "      <td>0</td>\n",
       "      <td>1</td>\n",
       "    </tr>\n",
       "    <tr>\n",
       "      <th>6</th>\n",
       "      <td>0</td>\n",
       "      <td>1</td>\n",
       "      <td>0</td>\n",
       "      <td>1</td>\n",
       "    </tr>\n",
       "    <tr>\n",
       "      <th>7</th>\n",
       "      <td>0</td>\n",
       "      <td>1</td>\n",
       "      <td>0</td>\n",
       "      <td>1</td>\n",
       "    </tr>\n",
       "    <tr>\n",
       "      <th>8</th>\n",
       "      <td>0</td>\n",
       "      <td>1</td>\n",
       "      <td>1</td>\n",
       "      <td>1</td>\n",
       "    </tr>\n",
       "    <tr>\n",
       "      <th>9</th>\n",
       "      <td>0</td>\n",
       "      <td>1</td>\n",
       "      <td>1</td>\n",
       "      <td>1</td>\n",
       "    </tr>\n",
       "    <tr>\n",
       "      <th>10</th>\n",
       "      <td>0</td>\n",
       "      <td>1</td>\n",
       "      <td>1</td>\n",
       "      <td>1</td>\n",
       "    </tr>\n",
       "    <tr>\n",
       "      <th>11</th>\n",
       "      <td>0</td>\n",
       "      <td>1</td>\n",
       "      <td>1</td>\n",
       "      <td>1</td>\n",
       "    </tr>\n",
       "  </tbody>\n",
       "</table>\n",
       "</div>"
      ],
      "text/plain": [
       "    study  free  money  is_spam\n",
       "0       1     0      0        0\n",
       "1       0     0      1        0\n",
       "2       1     0      0        0\n",
       "3       1     1      0        0\n",
       "4       0     1      0        1\n",
       "5       0     1      0        1\n",
       "6       0     1      0        1\n",
       "7       0     1      0        1\n",
       "8       0     1      1        1\n",
       "9       0     1      1        1\n",
       "10      0     1      1        1\n",
       "11      0     1      1        1"
      ]
     },
     "execution_count": 14,
     "metadata": {},
     "output_type": "execute_result"
    }
   ],
   "source": [
    "import pandas as pd\n",
    "features = ['study', 'free', 'money']\n",
    "target = 'is_spam'\n",
    "messages = pd.DataFrame(\n",
    "  [(1, 0, 0, 0),\n",
    "  (0, 0, 1, 0),\n",
    "  (1, 0, 0, 0),\n",
    "  (1, 1, 0, 0)] +\n",
    "  [(0, 1, 0, 1)] * 4 +\n",
    "  [(0, 1, 1, 1)] * 4,\n",
    "columns=features+[target])\n",
    "messages"
   ]
  },
  {
   "cell_type": "markdown",
   "metadata": {},
   "source": [
    "Given this labelled dataset, a common requirement is to classify a new message, for which the label is unknown. For example, the message \"money for psychology study\", can be encoded as:"
   ]
  },
  {
   "cell_type": "code",
   "execution_count": 15,
   "metadata": {},
   "outputs": [
    {
     "data": {
      "text/html": [
       "<div>\n",
       "<style scoped>\n",
       "    .dataframe tbody tr th:only-of-type {\n",
       "        vertical-align: middle;\n",
       "    }\n",
       "\n",
       "    .dataframe tbody tr th {\n",
       "        vertical-align: top;\n",
       "    }\n",
       "\n",
       "    .dataframe thead th {\n",
       "        text-align: right;\n",
       "    }\n",
       "</style>\n",
       "<table border=\"1\" class=\"dataframe\">\n",
       "  <thead>\n",
       "    <tr style=\"text-align: right;\">\n",
       "      <th></th>\n",
       "      <th>study</th>\n",
       "      <th>free</th>\n",
       "      <th>money</th>\n",
       "    </tr>\n",
       "  </thead>\n",
       "  <tbody>\n",
       "    <tr>\n",
       "      <th>0</th>\n",
       "      <td>1</td>\n",
       "      <td>0</td>\n",
       "      <td>1</td>\n",
       "    </tr>\n",
       "  </tbody>\n",
       "</table>\n",
       "</div>"
      ],
      "text/plain": [
       "   study  free  money\n",
       "0      1     0      1"
      ]
     },
     "execution_count": 15,
     "metadata": {},
     "output_type": "execute_result"
    }
   ],
   "source": [
    "new_messages = pd.DataFrame(\n",
    "  [(1, 0, 1)],\n",
    "columns = features)\n",
    "new_messages"
   ]
  },
  {
   "cell_type": "markdown",
   "metadata": {},
   "source": [
    "Using the [`BernoulliNB`](https://scikit-learn.org/stable/modules/generated/sklearn.naive_bayes.BernoulliNB.html) learner from `sklearn`, we can train a regular Naive Bayes classifier with:"
   ]
  },
  {
   "cell_type": "code",
   "execution_count": 16,
   "metadata": {},
   "outputs": [],
   "source": [
    "from sklearn.naive_bayes import BernoulliNB\n",
    "X = messages[features]\n",
    "y = messages[target]\n",
    "cl = BernoulliNB().fit(X, y)"
   ]
  },
  {
   "cell_type": "markdown",
   "metadata": {},
   "source": [
    "and then predict the class of the new message with:"
   ]
  },
  {
   "cell_type": "code",
   "execution_count": 17,
   "metadata": {},
   "outputs": [
    {
     "data": {
      "text/plain": [
       "array([0])"
      ]
     },
     "execution_count": 17,
     "metadata": {},
     "output_type": "execute_result"
    }
   ],
   "source": [
    "cl.predict(new_messages)"
   ]
  },
  {
   "cell_type": "markdown",
   "metadata": {},
   "source": [
    "The prediction is 0, so this message is not considered to be spam.\n",
    "\n",
    "In order to see the probabilities of each class, not just the most probable class, we can do:"
   ]
  },
  {
   "cell_type": "code",
   "execution_count": 18,
   "metadata": {},
   "outputs": [
    {
     "data": {
      "text/plain": [
       "array([[0.93676815, 0.06323185]])"
      ]
     },
     "execution_count": 18,
     "metadata": {},
     "output_type": "execute_result"
    }
   ],
   "source": [
    "cl.predict_proba(new_messages)"
   ]
  },
  {
   "cell_type": "markdown",
   "metadata": {},
   "source": [
    "To see the classes corresponding to these probabilieis, we can look at the `classes_` attribute:"
   ]
  },
  {
   "cell_type": "code",
   "execution_count": 19,
   "metadata": {},
   "outputs": [
    {
     "data": {
      "text/plain": [
       "array([0, 1])"
      ]
     },
     "execution_count": 19,
     "metadata": {},
     "output_type": "execute_result"
    }
   ],
   "source": [
    "cl.classes_"
   ]
  },
  {
   "cell_type": "markdown",
   "metadata": {},
   "source": [
    "which means the first probability is for class '0', while the second probability is for class '1'."
   ]
  },
  {
   "cell_type": "markdown",
   "metadata": {},
   "source": [
    "Some of the most useful attributes provided by this learner are:\n",
    "\n",
    "* `classes_` Class labels known to the classifier;\n",
    "* `class_count_` Number of samples encountered for each class during fitting;\n",
    "* `class_log_prior_` Natural logarithm of the probability of each class (smoothed);\n",
    "* `feature_count_` Number of samples encountered for each (class, feature) during fitting;\n",
    "* `feature_log_prob_` Empirical log probability of features given a class, $P(a_i|v_j)$."
   ]
  },
  {
   "cell_type": "markdown",
   "metadata": {},
   "source": [
    "---\n",
    "**Give it a try!**\n",
    "\n",
    "The datasets `X_art` and `y_art` below describe 6 news articles. `X_art` holds the frequency of words while `y_art` holds the topic of the article. `X_new_art` is meant to represent a new article, for which we don't know the topic. What is the probability that this article is about weather?"
   ]
  },
  {
   "cell_type": "code",
   "execution_count": 20,
   "metadata": {},
   "outputs": [],
   "source": [
    "import pandas as pd\n",
    "import numpy as np\n",
    "rng = np.random.RandomState(1)\n",
    "cols = [f'word_{i}' for i in range(100)]\n",
    "\n",
    "X_art = pd.DataFrame(rng.randint(5, size=(6, 100)), columns=cols)\n",
    "y_art = pd.Series(np.array(['politics', 'economy', 'weather', 'sports', 'sports', 'culture']))\n",
    "X_new_art = pd.DataFrame(X_art[2:3])\n",
    "\n",
    "# Your code here"
   ]
  },
  {
   "cell_type": "markdown",
   "metadata": {},
   "source": [
    "Expected result: 0.99999998.\n",
    "\n",
    "---"
   ]
  },
  {
   "cell_type": "markdown",
   "metadata": {},
   "source": [
    "## Prior probabilities"
   ]
  },
  {
   "cell_type": "markdown",
   "metadata": {},
   "source": [
    "By default, the probabilities of the two classes (spam and non-spam) are determined from the dataset. In the results above, the prior probability of 'spam' is considered to be $8/12$, so approximately 0.67. If, however, we want to tweak the prediction to be more conservative and label less messages as spam, then we can directly specify the probability of spam to a lower value such as 0.1:"
   ]
  },
  {
   "cell_type": "code",
   "execution_count": 21,
   "metadata": {},
   "outputs": [
    {
     "data": {
      "text/plain": [
       "array([[0.99626401, 0.00373599]])"
      ]
     },
     "execution_count": 21,
     "metadata": {},
     "output_type": "execute_result"
    }
   ],
   "source": [
    "cl = BernoulliNB(class_prior=[0.9,0.1]).fit(X, y)\n",
    "cl.predict_proba(new_messages)"
   ]
  },
  {
   "cell_type": "markdown",
   "metadata": {},
   "source": [
    "As expected, the computed probability that the message is spam has decreased, from around 0.06 to 0.0037."
   ]
  }
 ],
 "metadata": {
  "kernelspec": {
   "display_name": "Python 3",
   "language": "python",
   "name": "python3"
  },
  "language_info": {
   "codemirror_mode": {
    "name": "ipython",
    "version": 3
   },
   "file_extension": ".py",
   "mimetype": "text/x-python",
   "name": "python",
   "nbconvert_exporter": "python",
   "pygments_lexer": "ipython3",
   "version": "3.7.5"
  }
 },
 "nbformat": 4,
 "nbformat_minor": 4
}
